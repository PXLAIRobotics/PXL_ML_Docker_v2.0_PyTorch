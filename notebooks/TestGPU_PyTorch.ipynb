{
 "cells": [
  {
   "cell_type": "markdown",
   "id": "84b14bc6",
   "metadata": {},
   "source": [
    "# Test GPU Notebook\n",
    "\n",
    "This notebook will execute a few Python statements to check if the Nivdia GPU is available and functional."
   ]
  },
  {
   "cell_type": "code",
   "execution_count": 1,
   "id": "9286c35f-aa79-44d2-a760-b0f1d1ccfd64",
   "metadata": {},
   "outputs": [],
   "source": [
    "import warnings \n",
    "warnings.filterwarnings('ignore')"
   ]
  },
  {
   "cell_type": "markdown",
   "id": "eab79c72",
   "metadata": {},
   "source": [
    "## PyTorch"
   ]
  },
  {
   "cell_type": "code",
   "execution_count": 2,
   "id": "0db8966c-06e4-4c5c-be00-270fbe31a224",
   "metadata": {},
   "outputs": [
    {
     "name": "stdout",
     "output_type": "stream",
     "text": [
      "GPU available\n",
      "NVIDIA RTX A2000 Laptop GPU\n"
     ]
    }
   ],
   "source": [
    "import torch\n",
    "\n",
    "if torch.cuda.is_available():\n",
    "    print(\"GPU available\")\n",
    "    current_device = torch.cuda.current_device()\n",
    "    print(torch.cuda.get_device_name(current_device))"
   ]
  },
  {
   "cell_type": "code",
   "execution_count": null,
   "id": "a2f3dc8d-eb87-4c1f-b5f4-b8237fda01e1",
   "metadata": {},
   "outputs": [],
   "source": []
  },
  {
   "cell_type": "code",
   "execution_count": null,
   "id": "a72098f5-6852-43a3-bcaf-97d6c8f6cb5b",
   "metadata": {},
   "outputs": [],
   "source": []
  }
 ],
 "metadata": {
  "kernelspec": {
   "display_name": "Python 3 (ipykernel)",
   "language": "python",
   "name": "python3"
  },
  "language_info": {
   "codemirror_mode": {
    "name": "ipython",
    "version": 3
   },
   "file_extension": ".py",
   "mimetype": "text/x-python",
   "name": "python",
   "nbconvert_exporter": "python",
   "pygments_lexer": "ipython3",
   "version": "3.10.13"
  }
 },
 "nbformat": 4,
 "nbformat_minor": 5
}
